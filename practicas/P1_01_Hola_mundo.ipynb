{
 "cells": [
  {
   "cell_type": "markdown",
   "id": "bcc9ddd3",
   "metadata": {},
   "source": [
    "# Práctica 1-02: Hola Mundo soy Aldahir Martinez Diaz\n",
    "Este es mi primer notebook en VS Code para la materia de Control Clásico."
   ]
  },
  {
   "cell_type": "code",
   "execution_count": 1,
   "id": "6805caf1",
   "metadata": {},
   "outputs": [
    {
     "name": "stdout",
     "output_type": "stream",
     "text": [
      "Hola mundo\n"
     ]
    }
   ],
   "source": [
    "print (\"Hola mundo\")"
   ]
  }
 ],
 "metadata": {
  "kernelspec": {
   "display_name": ".venv (3.9.13)",
   "language": "python",
   "name": "python3"
  },
  "language_info": {
   "codemirror_mode": {
    "name": "ipython",
    "version": 3
   },
   "file_extension": ".py",
   "mimetype": "text/x-python",
   "name": "python",
   "nbconvert_exporter": "python",
   "pygments_lexer": "ipython3",
   "version": "3.9.13"
  }
 },
 "nbformat": 4,
 "nbformat_minor": 5
}
